{
  "cells": [
    {
      "cell_type": "markdown",
      "metadata": {
        "id": "view-in-github",
        "colab_type": "text"
      },
      "source": [
        "<a href=\"https://colab.research.google.com/github/axsy-dev/SKU110K_CVPR19/blob/feature%2Fcolab/colab/experiment_in_colab.ipynb\" target=\"_parent\"><img src=\"https://colab.research.google.com/assets/colab-badge.svg\" alt=\"Open In Colab\"/></a>"
      ]
    },
    {
      "cell_type": "markdown",
      "metadata": {
        "id": "rBwtBjdrU4pp"
      },
      "source": [
        "This colab is experimenting with the SKU110K_CVPR19 repo \n",
        "\n",
        "First we checkout the repo and branch (which makes it work with colab)"
      ]
    },
    {
      "cell_type": "code",
      "execution_count": null,
      "metadata": {
        "id": "rYijuHNkhRxj"
      },
      "outputs": [],
      "source": [
        "# This colab is just aiming to validate and play with the available model at https://github.com/eg4000/SKU110K_CVPR19 \n",
        "!git clone https://github.com/axsy-dev/SKU110K_CVPR19.git\n",
        "%cd SKU110K_CVPR19\n",
        "!git checkout feature/colab \n",
        "%cd .."
      ]
    },
    {
      "cell_type": "markdown",
      "metadata": {
        "id": "oWkAImxYVYLM"
      },
      "source": [
        "Get the dataset of interest as described in the repo readme"
      ]
    },
    {
      "cell_type": "code",
      "execution_count": null,
      "metadata": {
        "id": "XazBVsy2jtOu"
      },
      "outputs": [],
      "source": [
        "\n",
        "!rm SKU110K_fixed.tar.gz\n",
        "!wget http://trax-geometry.s3.amazonaws.com/cvpr_challenge/SKU110K_fixed.tar.gz\n"
      ]
    },
    {
      "cell_type": "markdown",
      "metadata": {
        "id": "LlNhDWWPWUfT"
      },
      "source": [
        "Extract it"
      ]
    },
    {
      "cell_type": "code",
      "execution_count": null,
      "metadata": {
        "id": "8l76HsQDswnK"
      },
      "outputs": [],
      "source": [
        "!tar xvf SKU110K_fixed.tar.gz\n"
      ]
    },
    {
      "cell_type": "markdown",
      "metadata": {
        "id": "C3WvP6XhWbrK"
      },
      "source": [
        "Repo wants the SKU110 to be located in /home/Documents (I made a brief but unsuccessful attempt to configure this location. Still don't know python well enough!)\n"
      ]
    },
    {
      "cell_type": "code",
      "execution_count": null,
      "metadata": {
        "id": "ERlcuB2mtyGK"
      },
      "outputs": [],
      "source": [
        "!rm -rf /root/Documents/SKU110K\n",
        "!mkdir /root/Documents\n",
        "!mv SKU110K_fixed/ /root/Documents/SKU110K\n",
        "!rm SKU110K_fixed.tar.gz"
      ]
    },
    {
      "cell_type": "markdown",
      "metadata": {
        "id": "jTik2RMHWoME"
      },
      "source": [
        "Get the saved model that is discussed in the repo"
      ]
    },
    {
      "cell_type": "code",
      "execution_count": null,
      "metadata": {
        "id": "Tni9UdCnyPW-"
      },
      "outputs": [],
      "source": [
        "!gdown 1f9tRzJSqjuUQzXz8WjJC0V_WD-8y_6wy"
      ]
    },
    {
      "cell_type": "code",
      "execution_count": null,
      "metadata": {
        "id": "8LIJVF_qdhIJ"
      },
      "outputs": [],
      "source": [
        "%cd SKU110K_CVPR19"
      ]
    },
    {
      "cell_type": "markdown",
      "metadata": {
        "id": "O49_X4DhcJfI"
      },
      "source": [
        "I only run this if I changed code!"
      ]
    },
    {
      "cell_type": "code",
      "execution_count": null,
      "metadata": {
        "id": "-hXvWw8jcEFW"
      },
      "outputs": [],
      "source": [
        "!git pull"
      ]
    },
    {
      "cell_type": "markdown",
      "metadata": {
        "id": "suiuyMYTYIf3"
      },
      "source": [
        "We need to install this"
      ]
    },
    {
      "cell_type": "code",
      "execution_count": null,
      "metadata": {
        "id": "yPWGmcBYpYBo"
      },
      "outputs": [],
      "source": [
        "!pip install keras_resnet"
      ]
    },
    {
      "cell_type": "markdown",
      "metadata": {
        "id": "L9FI_uk-Tv--"
      },
      "source": [
        "This script takes at least 5 hours to complete. However you can run it for a while and then look at the results in /root/Documents/res_images_iou and then stop it!\n"
      ]
    },
    {
      "cell_type": "code",
      "execution_count": null,
      "metadata": {
        "id": "s-GjZf1YhaFs"
      },
      "outputs": [],
      "source": [
        "%env PYTHONPATH=/content/SKU110K_CVPR19\n",
        "\n",
        "!python -u object_detector_retinanet/keras_retinanet/bin/predict.py   csv /content/iou_resnet50_csv_06.h5\n"
      ]
    },
    {
      "cell_type": "markdown",
      "metadata": {
        "id": "vxYzyB1EXr6E"
      },
      "source": [
        "We are now trying prediction only (not validating against annotated test images), change this to experiment & copy any image into that test dir"
      ]
    },
    {
      "cell_type": "code",
      "execution_count": null,
      "metadata": {
        "id": "1-1dXrr0PCCY"
      },
      "outputs": [],
      "source": [
        "!mkdir /root/Documents/predict_only_test\n",
        "!cp /root/Documents/SKU110K/images/test_0.jpg /root/Documents/predict_only_test"
      ]
    },
    {
      "cell_type": "code",
      "execution_count": null,
      "metadata": {
        "id": "udvLLutsYnBi"
      },
      "outputs": [],
      "source": [
        "!python -u object_detector_retinanet/keras_retinanet/bin/predict_only.py"
      ]
    }
  ],
  "metadata": {
    "accelerator": "GPU",
    "colab": {
      "collapsed_sections": [],
      "name": "SKU100k1.ipynb",
      "provenance": [],
      "include_colab_link": true
    },
    "gpuClass": "standard",
    "kernelspec": {
      "display_name": "Python 3.9.12 ('base')",
      "language": "python",
      "name": "python3"
    },
    "language_info": {
      "name": "python",
      "version": "3.9.12"
    },
    "vscode": {
      "interpreter": {
        "hash": "c21a6655131c741f79df8eb4bd0cae1b70d695726e2568e617df1b25dc82cc9e"
      }
    }
  },
  "nbformat": 4,
  "nbformat_minor": 0
}
